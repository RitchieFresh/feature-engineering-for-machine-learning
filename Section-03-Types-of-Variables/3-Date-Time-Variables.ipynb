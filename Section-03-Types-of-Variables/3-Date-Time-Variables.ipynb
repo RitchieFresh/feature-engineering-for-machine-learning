{
 "cells": [
  {
   "cell_type": "markdown",
   "metadata": {},
   "source": [
    "# Datetime variables\n",
    "\n",
    "[Feature Engineering for Machine Learning Course](https://www.trainindata.com/p/feature-engineering-for-machine-learning)\n",
    "\n",
    "Datetime variables take dates and / or time as values. For example, date of birth ('29-08-1987', '12-01-2012'), or date of application ('2016-Dec', '2013-March'). Datetime variables can contain dates only, times only, or dates and time.\n",
    "\n",
    "We don't use datetime variables straightaway in machine learning because:\n",
    "\n",
    "- They contain a huge number of different values.\n",
    "- We can extract much more information from datetime variables by preprocessing them correctly.\n",
    "\n",
    "Furthermore, date variables frequently include dates that were absent from the dataset used to train the machine learning model. In fact, date variables are frequently used to store dates that are in the future in comparison to the dates in the training dataset. As a result, because they were never seen while being trained, the machine learning model will have no idea what to do with the new values.\n",
    "\n",
    "=============================================================================\n",
    "\n",
    "## In this demo: Peer-to-peer lending (Finance)\n",
    "\n",
    "In this demo, we will use a toy data set that simulates data from a peer-to-peer finance company.\n",
    "\n",
    "To obtain the data, go to the lecture **Download datasets** in **Section 2**. This is a toy dataset that I created and comes within the Datasets.zip file that you can find in this lecture."
   ]
  },
  {
   "cell_type": "code",
   "execution_count": 1,
   "metadata": {},
   "outputs": [],
   "source": [
    "import pandas as pd\n",
    "import matplotlib.pyplot as plt"
   ]
  },
  {
   "cell_type": "code",
   "execution_count": 4,
   "metadata": {},
   "outputs": [
    {
     "name": "stdout",
     "output_type": "stream",
     "text": [
      "<class 'pandas.core.frame.DataFrame'>\n",
      "RangeIndex: 10000 entries, 0 to 9999\n",
      "Data columns (total 14 columns):\n",
      " #   Column                  Non-Null Count  Dtype  \n",
      "---  ------                  --------------  -----  \n",
      " 0   customer_id             10000 non-null  int64  \n",
      " 1   disbursed_amount        10000 non-null  float64\n",
      " 2   interest                10000 non-null  float64\n",
      " 3   market                  10000 non-null  object \n",
      " 4   employment              9389 non-null   object \n",
      " 5   time_employed           9471 non-null   object \n",
      " 6   householder             10000 non-null  object \n",
      " 7   income                  10000 non-null  float64\n",
      " 8   date_issued             10000 non-null  object \n",
      " 9   target                  10000 non-null  int64  \n",
      " 10  loan_purpose            10000 non-null  object \n",
      " 11  number_open_accounts    10000 non-null  float64\n",
      " 12  date_last_payment       10000 non-null  object \n",
      " 13  number_credit_lines_12  238 non-null    float64\n",
      "dtypes: float64(5), int64(2), object(7)\n",
      "memory usage: 1.1+ MB\n"
     ]
    }
   ],
   "source": [
    "# Let's load the dataset.\n",
    "\n",
    "# Variable definitions:\n",
    "#-------------------------\n",
    "# disbursed amount: loan amount lent to the borrower\n",
    "# market: risk band in which borrowers are placed\n",
    "# date_issued: date the loan was issued\n",
    "# date_last_payment: date of last payment towards repyaing the loan\n",
    "\n",
    "data = pd.read_csv('../Datasets/loan.csv')\n",
    "\n",
    "data.info()"
   ]
  },
  {
   "cell_type": "code",
   "execution_count": 5,
   "metadata": {},
   "outputs": [
    {
     "data": {
      "application/vnd.microsoft.datawrangler.viewer.v0+json": {
       "columns": [
        {
         "name": "index",
         "rawType": "int64",
         "type": "integer"
        },
        {
         "name": "customer_id",
         "rawType": "int64",
         "type": "integer"
        },
        {
         "name": "disbursed_amount",
         "rawType": "float64",
         "type": "float"
        },
        {
         "name": "interest",
         "rawType": "float64",
         "type": "float"
        },
        {
         "name": "market",
         "rawType": "object",
         "type": "string"
        },
        {
         "name": "employment",
         "rawType": "object",
         "type": "string"
        },
        {
         "name": "time_employed",
         "rawType": "object",
         "type": "string"
        },
        {
         "name": "householder",
         "rawType": "object",
         "type": "string"
        },
        {
         "name": "income",
         "rawType": "float64",
         "type": "float"
        },
        {
         "name": "date_issued",
         "rawType": "object",
         "type": "string"
        },
        {
         "name": "target",
         "rawType": "int64",
         "type": "integer"
        },
        {
         "name": "loan_purpose",
         "rawType": "object",
         "type": "string"
        },
        {
         "name": "number_open_accounts",
         "rawType": "float64",
         "type": "float"
        },
        {
         "name": "date_last_payment",
         "rawType": "object",
         "type": "string"
        },
        {
         "name": "number_credit_lines_12",
         "rawType": "float64",
         "type": "float"
        }
       ],
       "ref": "3560c0d2-dfb1-4167-9bc2-ee9a84c86d15",
       "rows": [
        [
         "0",
         "0",
         "23201.5",
         "15.484",
         "C",
         "Teacher",
         "<=5 years",
         "RENT",
         "84600.0",
         "2013-06-11",
         "0",
         "Debt consolidation",
         "4.0",
         "2016-01-14",
         null
        ],
        [
         "1",
         "1",
         "7425.0",
         "11.2032",
         "B",
         "Accountant",
         "<=5 years",
         "OWNER",
         "102000.0",
         "2014-05-08",
         "0",
         "Car purchase",
         "13.0",
         "2016-01-25",
         null
        ],
        [
         "2",
         "2",
         "11150.0",
         "8.51",
         "A",
         "Statistician",
         "<=5 years",
         "RENT",
         "69840.0",
         "2013-10-26",
         "0",
         "Debt consolidation",
         "8.0",
         "2014-09-26",
         null
        ],
        [
         "3",
         "3",
         "7600.0",
         "5.865600000000001",
         "A",
         "Other",
         "<=5 years",
         "RENT",
         "100386.0",
         "2015-08-20",
         "0",
         "Debt consolidation",
         "20.0",
         "2016-01-26",
         null
        ],
        [
         "4",
         "4",
         "31960.0",
         "18.7392",
         "E",
         "Bus driver",
         ">5 years",
         "RENT",
         "95040.0",
         "2014-07-22",
         "0",
         "Debt consolidation",
         "14.0",
         "2016-01-11",
         null
        ]
       ],
       "shape": {
        "columns": 14,
        "rows": 5
       }
      },
      "text/html": [
       "<div>\n",
       "<style scoped>\n",
       "    .dataframe tbody tr th:only-of-type {\n",
       "        vertical-align: middle;\n",
       "    }\n",
       "\n",
       "    .dataframe tbody tr th {\n",
       "        vertical-align: top;\n",
       "    }\n",
       "\n",
       "    .dataframe thead th {\n",
       "        text-align: right;\n",
       "    }\n",
       "</style>\n",
       "<table border=\"1\" class=\"dataframe\">\n",
       "  <thead>\n",
       "    <tr style=\"text-align: right;\">\n",
       "      <th></th>\n",
       "      <th>customer_id</th>\n",
       "      <th>disbursed_amount</th>\n",
       "      <th>interest</th>\n",
       "      <th>market</th>\n",
       "      <th>employment</th>\n",
       "      <th>time_employed</th>\n",
       "      <th>householder</th>\n",
       "      <th>income</th>\n",
       "      <th>date_issued</th>\n",
       "      <th>target</th>\n",
       "      <th>loan_purpose</th>\n",
       "      <th>number_open_accounts</th>\n",
       "      <th>date_last_payment</th>\n",
       "      <th>number_credit_lines_12</th>\n",
       "    </tr>\n",
       "  </thead>\n",
       "  <tbody>\n",
       "    <tr>\n",
       "      <th>0</th>\n",
       "      <td>0</td>\n",
       "      <td>23201.5</td>\n",
       "      <td>15.4840</td>\n",
       "      <td>C</td>\n",
       "      <td>Teacher</td>\n",
       "      <td>&lt;=5 years</td>\n",
       "      <td>RENT</td>\n",
       "      <td>84600.0</td>\n",
       "      <td>2013-06-11</td>\n",
       "      <td>0</td>\n",
       "      <td>Debt consolidation</td>\n",
       "      <td>4.0</td>\n",
       "      <td>2016-01-14</td>\n",
       "      <td>NaN</td>\n",
       "    </tr>\n",
       "    <tr>\n",
       "      <th>1</th>\n",
       "      <td>1</td>\n",
       "      <td>7425.0</td>\n",
       "      <td>11.2032</td>\n",
       "      <td>B</td>\n",
       "      <td>Accountant</td>\n",
       "      <td>&lt;=5 years</td>\n",
       "      <td>OWNER</td>\n",
       "      <td>102000.0</td>\n",
       "      <td>2014-05-08</td>\n",
       "      <td>0</td>\n",
       "      <td>Car purchase</td>\n",
       "      <td>13.0</td>\n",
       "      <td>2016-01-25</td>\n",
       "      <td>NaN</td>\n",
       "    </tr>\n",
       "    <tr>\n",
       "      <th>2</th>\n",
       "      <td>2</td>\n",
       "      <td>11150.0</td>\n",
       "      <td>8.5100</td>\n",
       "      <td>A</td>\n",
       "      <td>Statistician</td>\n",
       "      <td>&lt;=5 years</td>\n",
       "      <td>RENT</td>\n",
       "      <td>69840.0</td>\n",
       "      <td>2013-10-26</td>\n",
       "      <td>0</td>\n",
       "      <td>Debt consolidation</td>\n",
       "      <td>8.0</td>\n",
       "      <td>2014-09-26</td>\n",
       "      <td>NaN</td>\n",
       "    </tr>\n",
       "    <tr>\n",
       "      <th>3</th>\n",
       "      <td>3</td>\n",
       "      <td>7600.0</td>\n",
       "      <td>5.8656</td>\n",
       "      <td>A</td>\n",
       "      <td>Other</td>\n",
       "      <td>&lt;=5 years</td>\n",
       "      <td>RENT</td>\n",
       "      <td>100386.0</td>\n",
       "      <td>2015-08-20</td>\n",
       "      <td>0</td>\n",
       "      <td>Debt consolidation</td>\n",
       "      <td>20.0</td>\n",
       "      <td>2016-01-26</td>\n",
       "      <td>NaN</td>\n",
       "    </tr>\n",
       "    <tr>\n",
       "      <th>4</th>\n",
       "      <td>4</td>\n",
       "      <td>31960.0</td>\n",
       "      <td>18.7392</td>\n",
       "      <td>E</td>\n",
       "      <td>Bus driver</td>\n",
       "      <td>&gt;5 years</td>\n",
       "      <td>RENT</td>\n",
       "      <td>95040.0</td>\n",
       "      <td>2014-07-22</td>\n",
       "      <td>0</td>\n",
       "      <td>Debt consolidation</td>\n",
       "      <td>14.0</td>\n",
       "      <td>2016-01-11</td>\n",
       "      <td>NaN</td>\n",
       "    </tr>\n",
       "  </tbody>\n",
       "</table>\n",
       "</div>"
      ],
      "text/plain": [
       "   customer_id  disbursed_amount  interest market    employment time_employed  \\\n",
       "0            0           23201.5   15.4840      C       Teacher     <=5 years   \n",
       "1            1            7425.0   11.2032      B    Accountant     <=5 years   \n",
       "2            2           11150.0    8.5100      A  Statistician     <=5 years   \n",
       "3            3            7600.0    5.8656      A         Other     <=5 years   \n",
       "4            4           31960.0   18.7392      E    Bus driver      >5 years   \n",
       "\n",
       "  householder    income date_issued  target        loan_purpose  \\\n",
       "0        RENT   84600.0  2013-06-11       0  Debt consolidation   \n",
       "1       OWNER  102000.0  2014-05-08       0        Car purchase   \n",
       "2        RENT   69840.0  2013-10-26       0  Debt consolidation   \n",
       "3        RENT  100386.0  2015-08-20       0  Debt consolidation   \n",
       "4        RENT   95040.0  2014-07-22       0  Debt consolidation   \n",
       "\n",
       "   number_open_accounts date_last_payment  number_credit_lines_12  \n",
       "0                   4.0        2016-01-14                     NaN  \n",
       "1                  13.0        2016-01-25                     NaN  \n",
       "2                   8.0        2014-09-26                     NaN  \n",
       "3                  20.0        2016-01-26                     NaN  \n",
       "4                  14.0        2016-01-11                     NaN  "
      ]
     },
     "execution_count": 5,
     "metadata": {},
     "output_type": "execute_result"
    }
   ],
   "source": [
    "data.head()"
   ]
  },
  {
   "cell_type": "code",
   "execution_count": 3,
   "metadata": {},
   "outputs": [
    {
     "data": {
      "text/plain": [
       "date_issued          object\n",
       "date_last_payment    object\n",
       "dtype: object"
      ]
     },
     "execution_count": 3,
     "metadata": {},
     "output_type": "execute_result"
    }
   ],
   "source": [
    "# Pandas assigns type 'object' to dates \n",
    "# when loading from csv.\n",
    "\n",
    "# Let's have a look:\n",
    "\n",
    "data[['date_issued', 'date_last_payment']].dtypes"
   ]
  },
  {
   "cell_type": "markdown",
   "metadata": {},
   "source": [
    "Both **date_issued** and **date_last_payment** are cast as objects. Therefore, pandas will treat them as strings.\n",
    "\n",
    "To tell pandas that they are datetime variables, we need to re-cast them into datetime format."
   ]
  },
  {
   "cell_type": "code",
   "execution_count": 7,
   "metadata": {},
   "outputs": [
    {
     "data": {
      "application/vnd.microsoft.datawrangler.viewer.v0+json": {
       "columns": [
        {
         "name": "index",
         "rawType": "int64",
         "type": "integer"
        },
        {
         "name": "date_issued",
         "rawType": "object",
         "type": "string"
        },
        {
         "name": "date_issued_dt",
         "rawType": "datetime64[ns]",
         "type": "datetime"
        },
        {
         "name": "date_last_payment",
         "rawType": "object",
         "type": "string"
        },
        {
         "name": "date_last_payment_dt",
         "rawType": "datetime64[ns]",
         "type": "datetime"
        }
       ],
       "ref": "37c797a3-1ecc-4c15-9192-a70c15ec7d06",
       "rows": [
        [
         "0",
         "2013-06-11",
         "2013-06-11 00:00:00",
         "2016-01-14",
         "2016-01-14 00:00:00"
        ],
        [
         "1",
         "2014-05-08",
         "2014-05-08 00:00:00",
         "2016-01-25",
         "2016-01-25 00:00:00"
        ],
        [
         "2",
         "2013-10-26",
         "2013-10-26 00:00:00",
         "2014-09-26",
         "2014-09-26 00:00:00"
        ],
        [
         "3",
         "2015-08-20",
         "2015-08-20 00:00:00",
         "2016-01-26",
         "2016-01-26 00:00:00"
        ],
        [
         "4",
         "2014-07-22",
         "2014-07-22 00:00:00",
         "2016-01-11",
         "2016-01-11 00:00:00"
        ]
       ],
       "shape": {
        "columns": 4,
        "rows": 5
       }
      },
      "text/html": [
       "<div>\n",
       "<style scoped>\n",
       "    .dataframe tbody tr th:only-of-type {\n",
       "        vertical-align: middle;\n",
       "    }\n",
       "\n",
       "    .dataframe tbody tr th {\n",
       "        vertical-align: top;\n",
       "    }\n",
       "\n",
       "    .dataframe thead th {\n",
       "        text-align: right;\n",
       "    }\n",
       "</style>\n",
       "<table border=\"1\" class=\"dataframe\">\n",
       "  <thead>\n",
       "    <tr style=\"text-align: right;\">\n",
       "      <th></th>\n",
       "      <th>date_issued</th>\n",
       "      <th>date_issued_dt</th>\n",
       "      <th>date_last_payment</th>\n",
       "      <th>date_last_payment_dt</th>\n",
       "    </tr>\n",
       "  </thead>\n",
       "  <tbody>\n",
       "    <tr>\n",
       "      <th>0</th>\n",
       "      <td>2013-06-11</td>\n",
       "      <td>2013-06-11</td>\n",
       "      <td>2016-01-14</td>\n",
       "      <td>2016-01-14</td>\n",
       "    </tr>\n",
       "    <tr>\n",
       "      <th>1</th>\n",
       "      <td>2014-05-08</td>\n",
       "      <td>2014-05-08</td>\n",
       "      <td>2016-01-25</td>\n",
       "      <td>2016-01-25</td>\n",
       "    </tr>\n",
       "    <tr>\n",
       "      <th>2</th>\n",
       "      <td>2013-10-26</td>\n",
       "      <td>2013-10-26</td>\n",
       "      <td>2014-09-26</td>\n",
       "      <td>2014-09-26</td>\n",
       "    </tr>\n",
       "    <tr>\n",
       "      <th>3</th>\n",
       "      <td>2015-08-20</td>\n",
       "      <td>2015-08-20</td>\n",
       "      <td>2016-01-26</td>\n",
       "      <td>2016-01-26</td>\n",
       "    </tr>\n",
       "    <tr>\n",
       "      <th>4</th>\n",
       "      <td>2014-07-22</td>\n",
       "      <td>2014-07-22</td>\n",
       "      <td>2016-01-11</td>\n",
       "      <td>2016-01-11</td>\n",
       "    </tr>\n",
       "  </tbody>\n",
       "</table>\n",
       "</div>"
      ],
      "text/plain": [
       "  date_issued date_issued_dt date_last_payment date_last_payment_dt\n",
       "0  2013-06-11     2013-06-11        2016-01-14           2016-01-14\n",
       "1  2014-05-08     2014-05-08        2016-01-25           2016-01-25\n",
       "2  2013-10-26     2013-10-26        2014-09-26           2014-09-26\n",
       "3  2015-08-20     2015-08-20        2016-01-26           2016-01-26\n",
       "4  2014-07-22     2014-07-22        2016-01-11           2016-01-11"
      ]
     },
     "execution_count": 7,
     "metadata": {},
     "output_type": "execute_result"
    }
   ],
   "source": [
    "# Let's parse the dates into datetime format.\n",
    "# This will allow us to make some analysis afterwards.\n",
    "\n",
    "data['date_issued_dt'] = pd.to_datetime(data['date_issued'])\n",
    "data['date_last_payment_dt'] = pd.to_datetime(data['date_last_payment'])\n",
    "\n",
    "data[['date_issued', 'date_issued_dt', 'date_last_payment', 'date_last_payment_dt']].head()"
   ]
  },
  {
   "cell_type": "code",
   "execution_count": 8,
   "metadata": {},
   "outputs": [],
   "source": [
    "# Let's extract the month and the year from the \n",
    "# datetime variable to make plots.\n",
    "\n",
    "data['month'] = data['date_issued_dt'].dt.month\n",
    "data['year'] = data['date_issued_dt'].dt.year"
   ]
  },
  {
   "cell_type": "code",
   "execution_count": 10,
   "metadata": {},
   "outputs": [
    {
     "data": {
      "application/vnd.microsoft.datawrangler.viewer.v0+json": {
       "columns": [
        {
         "name": "('year', 'month', 'market')",
         "rawType": "object",
         "type": "unknown"
        },
        {
         "name": "disbursed_amount",
         "rawType": "float64",
         "type": "float"
        }
       ],
       "ref": "4d0689b6-1053-4850-9c6d-f6f82b11890e",
       "rows": [
        [
         "(np.int32(2007), np.int32(7), 'A')",
         "1820.0"
        ],
        [
         "(np.int32(2007), np.int32(8), 'E')",
         "18600.0"
        ],
        [
         "(np.int32(2007), np.int32(9), 'E')",
         "19432.25"
        ],
        [
         "(np.int32(2007), np.int32(10), 'E')",
         "14256.0"
        ],
        [
         "(np.int32(2007), np.int32(12), 'B')",
         "2796.5"
        ],
        [
         "(np.int32(2008), np.int32(1), 'A')",
         "11360.0"
        ],
        [
         "(np.int32(2008), np.int32(1), 'E')",
         "14136.25"
        ],
        [
         "(np.int32(2008), np.int32(2), 'B')",
         "9798.25"
        ],
        [
         "(np.int32(2008), np.int32(2), 'C')",
         "29554.0"
        ],
        [
         "(np.int32(2008), np.int32(2), 'E')",
         "33442.5"
        ],
        [
         "(np.int32(2008), np.int32(3), 'A')",
         "10000.0"
        ],
        [
         "(np.int32(2008), np.int32(3), 'B')",
         "27440.0"
        ],
        [
         "(np.int32(2008), np.int32(3), 'C')",
         "24550.0"
        ],
        [
         "(np.int32(2008), np.int32(3), 'E')",
         "9324.75"
        ],
        [
         "(np.int32(2008), np.int32(4), 'A')",
         "4075.0"
        ],
        [
         "(np.int32(2008), np.int32(4), 'C')",
         "14720.0"
        ],
        [
         "(np.int32(2008), np.int32(4), 'D')",
         "17255.0"
        ],
        [
         "(np.int32(2008), np.int32(5), 'D')",
         "10855.0"
        ],
        [
         "(np.int32(2008), np.int32(5), 'E')",
         "6680.0"
        ],
        [
         "(np.int32(2008), np.int32(6), 'D')",
         "6900.0"
        ],
        [
         "(np.int32(2008), np.int32(7), 'E')",
         "4000.0"
        ],
        [
         "(np.int32(2008), np.int32(9), 'E')",
         "2910.0"
        ],
        [
         "(np.int32(2008), np.int32(11), 'C')",
         "1764.0"
        ],
        [
         "(np.int32(2008), np.int32(12), 'C')",
         "1960.0"
        ],
        [
         "(np.int32(2008), np.int32(12), 'D')",
         "14350.0"
        ],
        [
         "(np.int32(2009), np.int32(1), 'A')",
         "9400.0"
        ],
        [
         "(np.int32(2009), np.int32(1), 'B')",
         "13650.0"
        ],
        [
         "(np.int32(2009), np.int32(2), 'A')",
         "18240.0"
        ],
        [
         "(np.int32(2009), np.int32(2), 'B')",
         "11280.0"
        ],
        [
         "(np.int32(2009), np.int32(2), 'C')",
         "4185.0"
        ],
        [
         "(np.int32(2009), np.int32(2), 'D')",
         "7280.0"
        ],
        [
         "(np.int32(2009), np.int32(2), 'E')",
         "4750.0"
        ],
        [
         "(np.int32(2009), np.int32(3), 'D')",
         "9900.0"
        ],
        [
         "(np.int32(2009), np.int32(3), 'E')",
         "6696.0"
        ],
        [
         "(np.int32(2009), np.int32(4), 'A')",
         "9700.0"
        ],
        [
         "(np.int32(2009), np.int32(4), 'B')",
         "23232.0"
        ],
        [
         "(np.int32(2009), np.int32(4), 'C')",
         "9650.0"
        ],
        [
         "(np.int32(2009), np.int32(4), 'D')",
         "6900.0"
        ],
        [
         "(np.int32(2009), np.int32(5), 'B')",
         "14250.0"
        ],
        [
         "(np.int32(2009), np.int32(5), 'C')",
         "14850.0"
        ],
        [
         "(np.int32(2009), np.int32(6), 'A')",
         "19180.0"
        ],
        [
         "(np.int32(2009), np.int32(6), 'B')",
         "13968.0"
        ],
        [
         "(np.int32(2009), np.int32(6), 'C')",
         "45768.0"
        ],
        [
         "(np.int32(2009), np.int32(7), 'A')",
         "10995.0"
        ],
        [
         "(np.int32(2009), np.int32(7), 'B')",
         "4650.0"
        ],
        [
         "(np.int32(2009), np.int32(7), 'C')",
         "7644.0"
        ],
        [
         "(np.int32(2009), np.int32(7), 'D')",
         "9900.0"
        ],
        [
         "(np.int32(2009), np.int32(7), 'E')",
         "18600.0"
        ],
        [
         "(np.int32(2009), np.int32(8), 'B')",
         "23166.0"
        ],
        [
         "(np.int32(2009), np.int32(8), 'C')",
         "26946.0"
        ]
       ],
       "shape": {
        "columns": 1,
        "rows": 415
       }
      },
      "text/plain": [
       "year  month  market\n",
       "2007  7      A            1820.00\n",
       "      8      E           18600.00\n",
       "      9      E           19432.25\n",
       "      10     E           14256.00\n",
       "      12     B            2796.50\n",
       "                          ...    \n",
       "2015  12     A         1094781.50\n",
       "             B         1775188.00\n",
       "             C         1941545.75\n",
       "             D         1083162.50\n",
       "             E          871467.50\n",
       "Name: disbursed_amount, Length: 415, dtype: float64"
      ]
     },
     "execution_count": 10,
     "metadata": {},
     "output_type": "execute_result"
    }
   ],
   "source": [
    "data.groupby(['year', 'month', 'market'])['disbursed_amount'].sum()"
   ]
  },
  {
   "cell_type": "code",
   "execution_count": 12,
   "metadata": {},
   "outputs": [
    {
     "data": {
      "text/plain": [
       "Text(0, 0.5, 'Disbursed Amount')"
      ]
     },
     "execution_count": 12,
     "metadata": {},
     "output_type": "execute_result"
    },
    {
     "data": {
      "image/png": "[encoded data removed]",
      "text/plain": [
       "<Figure size 1400x800 with 1 Axes>"
      ]
     },
     "metadata": {},
     "output_type": "display_data"
    }
   ],
   "source": [
    "# Let's see how much money has been disbursed\n",
    "# over the years to the different risk\n",
    "# markets (grade variable).\n",
    "\n",
    "fig = data.groupby(['year', 'month', 'market'])['disbursed_amount'].sum().unstack().plot(\n",
    "    figsize=(14, 8), linewidth=2)\n",
    "\n",
    "fig.set_title('Disbursed amount in time')\n",
    "fig.set_ylabel('Disbursed Amount')"
   ]
  },
  {
   "cell_type": "markdown",
   "metadata": {},
   "source": [
    "This toy finance company seems to have increased the amount of money lent from 2012 onwards. The tendency indicates that they will continue to grow. In addition, we can see that their major business comes from lending money to C and B-grade borrowers.\n",
    "\n",
    "A grades are given to the lowest-risk borrowers; these are the borrowers who are most likely to repay their loans because they are in a better financial situation. Borrowers within this grade are charged lower interest rates.\n",
    "\n",
    "Riskier borrowers represent the D and E grades. Borrowers who are in a slightly tighter financial situation or who do not have enough financial history to make a reliable credit assessment. They are typically charged higher rates, as the business, and therefore the investors, take a higher risk when lending them money."
   ]
  },
  {
   "cell_type": "markdown",
   "metadata": {
    "collapsed": true
   },
   "source": [
    "**That is all for this demonstration. I hope you enjoyed the notebook, and I'll see you in the next one.**"
   ]
  },
  {
   "cell_type": "code",
   "execution_count": null,
   "metadata": {},
   "outputs": [],
   "source": []
  }
 ],
 "metadata": {
  "kernelspec": {
   "display_name": "data_analytics_py312",
   "language": "python",
   "name": "python3"
  },
  "language_info": {
   "codemirror_mode": {
    "name": "ipython",
    "version": 3
   },
   "file_extension": ".py",
   "mimetype": "text/x-python",
   "name": "python",
   "nbconvert_exporter": "python",
   "pygments_lexer": "ipython3",
   "version": "3.12.10"
  },
  "toc": {
   "base_numbering": 1,
   "nav_menu": {},
   "number_sections": true,
   "sideBar": true,
   "skip_h1_title": false,
   "title_cell": "Table of Contents",
   "title_sidebar": "Contents",
   "toc_cell": false,
   "toc_position": {
    "height": "563px",
    "left": "0px",
    "right": "867.4px",
    "top": "107px",
    "width": "210.2px"
   },
   "toc_section_display": "block",
   "toc_window_display": true
  }
 },
 "nbformat": 4,
 "nbformat_minor": 1
}
